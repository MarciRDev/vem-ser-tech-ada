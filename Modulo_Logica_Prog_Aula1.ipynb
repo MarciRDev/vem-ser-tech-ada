{
  "nbformat": 4,
  "nbformat_minor": 0,
  "metadata": {
    "colab": {
      "provenance": [],
      "authorship_tag": "ABX9TyMglWaVeb4TEToLAS23GjLm",
      "include_colab_link": true
    },
    "kernelspec": {
      "name": "python3",
      "display_name": "Python 3"
    },
    "language_info": {
      "name": "python"
    }
  },
  "cells": [
    {
      "cell_type": "markdown",
      "metadata": {
        "id": "view-in-github",
        "colab_type": "text"
      },
      "source": [
        "<a href=\"https://colab.research.google.com/github/MarciRDev/vem-ser-tech-ada/blob/main/Modulo_Logica_Prog_Aula1.ipynb\" target=\"_parent\"><img src=\"https://colab.research.google.com/assets/colab-badge.svg\" alt=\"Open In Colab\"/></a>"
      ]
    },
    {
      "cell_type": "markdown",
      "source": [
        "**Exercícios de fixação**"
      ],
      "metadata": {
        "id": "fYH_dnEPoF8V"
      }
    },
    {
      "cell_type": "markdown",
      "source": [
        "**01. Hello, Name!**\n",
        "- Peça ao usuário para digitar seu nome.\n",
        "- Armazene o nome em uma variável.\n",
        "- Imprima uma mensagem de boas-vindas usando essa variável.\n",
        "\n",
        "\n",
        "```\n",
        "nome = input(\"Oi! Como devo te chamar?\")\n",
        "print(\"Olá\", nome)\n",
        "```\n",
        "\n"
      ],
      "metadata": {
        "id": "MSpxXOY1oN6j"
      }
    },
    {
      "cell_type": "code",
      "source": [
        "nome = input(\"Oi! Como devo te chamar?\")\n",
        "print(\"Olá\", nome)"
      ],
      "metadata": {
        "colab": {
          "base_uri": "https://localhost:8080/"
        },
        "id": "eTMoRsBxoU1j",
        "outputId": "f3cacc6e-45ad-4fff-fbf5-2fbc66e04253"
      },
      "execution_count": 3,
      "outputs": [
        {
          "output_type": "stream",
          "name": "stdout",
          "text": [
            "Oi! Como devo te chamar?Marcia\n",
            "Olá Marcia\n"
          ]
        }
      ]
    },
    {
      "cell_type": "markdown",
      "source": [
        "**02. Conversão de Temperatura**\n",
        "- Peça ao usuário para digitar uma temperatura em Fahrenheit.\n",
        "- Converta essa temperatura para Celsius.\n",
        "- Exiba ambas as temperaturas.\n",
        "\n",
        "```\n",
        "temperatura = float(input('Insira a temperatura em ºF: '))\n",
        "\n",
        "temperatura_convertida = (5/9) * (temperatura - 32)\n",
        "\n",
        "print('A temperatura é: ', temperatura_convertida)\n",
        "\n",
        "```\n",
        "\n"
      ],
      "metadata": {
        "id": "I_OGrSapy7Vv"
      }
    },
    {
      "cell_type": "code",
      "source": [
        "temperatura = float(input('Insira a temperatura em ºF: '))\n",
        "\n",
        "temperatura_convertida = (5/9) * (temperatura - 32)\n",
        "\n",
        "print('A temperatura é: ', temperatura_convertida)\n",
        "\n"
      ],
      "metadata": {
        "colab": {
          "base_uri": "https://localhost:8080/"
        },
        "id": "t0zBo2HNy784",
        "outputId": "4f6f445a-54a7-4919-e95b-5e34f9b97fe9"
      },
      "execution_count": 9,
      "outputs": [
        {
          "output_type": "stream",
          "name": "stdout",
          "text": [
            "Insira a temperatura em ºF: 98\n",
            "A temperatura é:  36.66666666666667\n"
          ]
        }
      ]
    },
    {
      "cell_type": "markdown",
      "source": [
        "**03. Operações Matemáticas Básicas**\n",
        "- Peça ao usuário para digitar dois números.\n",
        "- Calcule a soma, subtração, multiplicação e divisão desses números.\n",
        "- Mostre os resultados para o usuário.\n",
        "\n",
        "\n",
        "\n",
        "```\n",
        "n1 = int(input(\"Insira um valor:\"))\n",
        "n2 = int(input(\"Insira outro valor:\"))\n",
        "\n",
        "soma = n1 + n2\n",
        "\n",
        "multi = n1 * n2\n",
        "\n",
        "div = n1 / n2\n",
        "\n",
        "subt = n1 - n1\n",
        "\n",
        "print('O resultado da soma é:', soma)\n",
        "print('O resultado da multiplicação é:', multi)\n",
        "print('O resultado da divisão é:', div)\n",
        "print('O resultado da subtração é:', subt)\n",
        "```\n",
        "\n"
      ],
      "metadata": {
        "id": "pBbPfNPg40_C"
      }
    },
    {
      "cell_type": "code",
      "source": [
        "n1 = int(input(\"Insira um valor:\"))\n",
        "n2 = int(input(\"Insira outro valor:\"))\n",
        "\n",
        "soma = n1 + n2\n",
        "\n",
        "multi = n1 * n2\n",
        "\n",
        "div = n1 / n2\n",
        "\n",
        "subt = n1 - n1\n",
        "\n",
        "print('O resultado da soma é:', soma)\n",
        "print('O resultado da multiplicação é:', multi)\n",
        "print('O resultado da divisão é:', div)\n",
        "print('O resultado da subtração é:', subt)\n",
        "\n"
      ],
      "metadata": {
        "colab": {
          "base_uri": "https://localhost:8080/"
        },
        "id": "WskiFo0O_UTp",
        "outputId": "f67de8a8-a943-48c0-c4c2-63984fb51720"
      },
      "execution_count": 11,
      "outputs": [
        {
          "output_type": "stream",
          "name": "stdout",
          "text": [
            "Insira um valor:45\n",
            "Insira outro valor:5\n",
            "O resultado da soma é: 50\n",
            "O resultado da multiplicação é: 225\n",
            "O resultado da divisão é: 9.0\n",
            "O resultado da subtração é: 0\n"
          ]
        }
      ]
    },
    {
      "cell_type": "markdown",
      "source": [
        "**04. Área do Retângulo**\n",
        "- Solicite ao usuário o comprimento e a largura de um retângulo.\n",
        "- Calcule a área do retângulo e exiba o resultado.\n",
        "\n",
        "\n",
        "\n",
        "```\n",
        "altura = float(input(\"Insira a altura do retângulo:\"))\n",
        "comprimento = float(input(\"Insira o comprimento do retângulo:\"))\n",
        "\n",
        "resultado = comprimento * altura\n",
        "\n",
        "print(\"O total da área é de:\", resultado)\n",
        "```\n",
        "\n"
      ],
      "metadata": {
        "id": "O0nG3mZJDKW5"
      }
    },
    {
      "cell_type": "code",
      "source": [
        "altura = float(input(\"Insira a altura do retângulo:\"))\n",
        "comprimento = float(input(\"Insira o comprimento do retângulo:\"))\n",
        "\n",
        "resultado = comprimento * altura\n",
        "\n",
        "print(\"O total da área é de:\", resultado)\n",
        "\n",
        "\n"
      ],
      "metadata": {
        "colab": {
          "base_uri": "https://localhost:8080/"
        },
        "id": "Pcrh4NGFOJjF",
        "outputId": "33e86660-48e0-4e88-cf1a-28913a06261f"
      },
      "execution_count": 12,
      "outputs": [
        {
          "output_type": "stream",
          "name": "stdout",
          "text": [
            "Insira a altura do retângulo:14\n",
            "Insira o comprimento do retângulo:30\n",
            "O total da área é de: 420.0\n"
          ]
        }
      ]
    },
    {
      "cell_type": "markdown",
      "source": [
        "**05. Calculadora de Gorjeta**\n",
        "- Peça ao usuário para inserir o valor total de uma conta de restaurante.\n",
        "- Peça ao usuário a porcentagem da gorjeta que ele deseja dar.\n",
        "- Calcule e exiba o valor da gorjeta e o valor total a ser pago.\n",
        "\n",
        "\n",
        "\n",
        "\n",
        "```\n",
        "conta = float(input(\"Insira o valor total da conta: \"))\n",
        "gorjeta = float(input(\"Insira a qual porcentagem gostaria de deixar como gorjeta: \"))\n",
        "\n",
        "total = (conta * gorjeta)/100\n",
        "\n",
        "print(\"O total ficou em: \", total)\n",
        "```\n",
        "\n"
      ],
      "metadata": {
        "id": "7eg4iDS8O_Bj"
      }
    },
    {
      "cell_type": "code",
      "source": [
        "conta = float(input(\"Insira o valor total da conta: \"))\n",
        "gorjeta = float(input(\"Insira a qual porcentagem gostaria de deixar como gorjeta: \"))\n",
        "\n",
        "total = (conta * gorjeta)/100\n",
        "\n",
        "print(\"O total ficou em: \", total)"
      ],
      "metadata": {
        "colab": {
          "base_uri": "https://localhost:8080/"
        },
        "id": "4r14zGVjO_pX",
        "outputId": "0ad87166-2c2e-4599-c867-457afb8927a0"
      },
      "execution_count": 13,
      "outputs": [
        {
          "output_type": "stream",
          "name": "stdout",
          "text": [
            "Insira o valor total da conta: 35\n",
            "Insira a qual porcentagem gostaria de deixar como gorjeta: 10\n",
            "O total ficou em:  3.5\n"
          ]
        }
      ]
    },
    {
      "cell_type": "markdown",
      "source": [
        "**06. Conversor de Moeda**\n",
        "- Defina uma taxa de conversão (por exemplo, de dólar para real).\n",
        "- Peça ao usuário para inserir uma quantia em dólares.\n",
        "    Converta essa quantia para reais e exiba o resultado.\n",
        "\n",
        "\n",
        "\n",
        "```\n",
        "dolar = 5\n",
        "\n",
        "real = float(input(\"Insira o valor em BRL: \"))\n",
        "\n",
        "conversao = dolar * real\n",
        "\n",
        "print(\"O total do valor convertido é de: \", conversao)\n",
        "```\n",
        "\n"
      ],
      "metadata": {
        "id": "GwQhVjvfQnEV"
      }
    },
    {
      "cell_type": "code",
      "source": [
        "dolar = 5\n",
        "\n",
        "real = float(input(\"Insira o valor em BRL: \"))\n",
        "\n",
        "conversao = dolar * real\n",
        "\n",
        "print(\"O total do valor convertido é de: \", conversao)\n",
        "\n"
      ],
      "metadata": {
        "colab": {
          "base_uri": "https://localhost:8080/"
        },
        "id": "C7ZeHdH_QndE",
        "outputId": "11ed2241-035d-43bc-9596-ce627bd7bfc2"
      },
      "execution_count": 14,
      "outputs": [
        {
          "output_type": "stream",
          "name": "stdout",
          "text": [
            "Insira o valor em BRL: 10\n",
            "O total do valor convertido é de:  50.0\n"
          ]
        }
      ]
    },
    {
      "cell_type": "markdown",
      "source": [
        "**07. Calculadora de Idade**\n",
        "- Pergunte ao usuário o ano atual e o ano em que ele nasceu.\n",
        "- Calcule e exiba a idade do usuário.\n",
        "\n",
        "\n",
        "\n",
        "```\n",
        "ano_atual = int(input(\"Insira o ano atual: \"))\n",
        "ano_nasc = int(input(\"Insira o ano de seu nascimento: \"))\n",
        "\n",
        "idade = ano_atual - ano_nasc\n",
        "\n",
        "print(\"Sua idade é: \", idade)\n",
        "```\n",
        "\n"
      ],
      "metadata": {
        "id": "q9FNyZbvSJr1"
      }
    },
    {
      "cell_type": "code",
      "source": [
        "ano_atual = int(input(\"Insira o ano atual: \"))\n",
        "ano_nasc = int(input(\"Insira o ano de seu nascimento: \"))\n",
        "\n",
        "idade = ano_atual - ano_nasc\n",
        "\n",
        "print(\"Sua idade é: \", idade)"
      ],
      "metadata": {
        "colab": {
          "base_uri": "https://localhost:8080/"
        },
        "id": "MBSxyXAuSt5E",
        "outputId": "8d89790c-75e3-4a90-b899-543411c56aac"
      },
      "execution_count": 15,
      "outputs": [
        {
          "output_type": "stream",
          "name": "stdout",
          "text": [
            "Insira o ano atual: 2023\n",
            "Insira o ano de seu nascimento: 1987\n",
            "Sua idade é:  36\n"
          ]
        }
      ]
    },
    {
      "cell_type": "markdown",
      "source": [
        "**08. Cálculo de Juros Simples**\n",
        "- Peça ao usuário o principal, a taxa de juros e o tempo (em anos).\n",
        "- Calcule e exiba o juro simples.\n",
        "\n",
        "\n",
        "\n",
        "\n",
        "```\n",
        "valor_original = float(input(\"Insira o valor original da compra: \"))\n",
        "porcentagem = float(input(\"Insira a taxa de juros: \"))\n",
        "anos = float(input(\"Em quantos anos pretende quitar?\"))\n",
        "\n",
        "acrescimo = valor_original + (porcentagem / 100) * anos\n",
        "\n",
        "print(\"O total ficará em: \", acrescimo)\n",
        "```\n",
        "\n"
      ],
      "metadata": {
        "id": "xu2PXkv9TKAh"
      }
    },
    {
      "cell_type": "code",
      "source": [
        "valor_original = float(input(\"Insira o valor original da compra: \"))\n",
        "porcentagem = float(input(\"Insira a taxa de juros: \"))\n",
        "anos = float(input(\"Em quantos anos pretende quitar?\"))\n",
        "\n",
        "acrescimo = valor_original + (porcentagem / 100) * anos\n",
        "\n",
        "print(\"O total ficará em: \", acrescimo)"
      ],
      "metadata": {
        "colab": {
          "base_uri": "https://localhost:8080/"
        },
        "id": "DfQVSJUlTKwC",
        "outputId": "255642d8-3eaf-47cf-fe0d-0f08007db10c"
      },
      "execution_count": 17,
      "outputs": [
        {
          "output_type": "stream",
          "name": "stdout",
          "text": [
            "Insira o valor original da compra: 50000\n",
            "Insira a taxa de juros: 3.9\n",
            "Gostaria de dividir em quantas parcelas?30\n",
            "O total ficará em:  50001.17\n"
          ]
        }
      ]
    },
    {
      "cell_type": "markdown",
      "source": [
        "**09. Preço com Desconto**\n",
        "- Solicite ao usuário o preço original de um produto e a porcentagem de desconto.\n",
        "- Calcule e mostre o preço após o desconto.\n",
        "\n",
        "\n",
        "\n",
        "```\n",
        "preco_original = float(input(\"Qual o valor do produto?\"))\n",
        "valor_desconto = float(input(\"Quanto é o desconto?\"))\n",
        "\n",
        "valor_atual = preco_original - (valor_desconto * preco_original /100 )\n",
        "\n",
        "print(\"O valor total, com desconto, ficará em: \", valor_atual)\n",
        "```\n",
        "\n"
      ],
      "metadata": {
        "id": "LKuhVmFAafWG"
      }
    },
    {
      "cell_type": "code",
      "source": [
        "preco_original = float(input(\"Qual o valor do produto?\"))\n",
        "valor_desconto = float(input(\"Quanto é o desconto?\"))\n",
        "\n",
        "valor_atual = preco_original - (valor_desconto * preco_original /100 )\n",
        "\n",
        "print(\"O valor total, com desconto, ficará em: \", valor_atual)"
      ],
      "metadata": {
        "colab": {
          "base_uri": "https://localhost:8080/"
        },
        "id": "pJkiOCu1af8f",
        "outputId": "f830c7b7-c425-449a-f26e-bc69c3bb6900"
      },
      "execution_count": 20,
      "outputs": [
        {
          "output_type": "stream",
          "name": "stdout",
          "text": [
            "Qual o valor do produto?145.98\n",
            "Quanto é o desconto?35\n",
            "O valor total, com desconto, ficará em:  94.887\n"
          ]
        }
      ]
    },
    {
      "cell_type": "markdown",
      "source": [
        "**10. Distância entre Pontos**\n",
        "- Peça ao usuário as coordenadas x e y de dois pontos no plano cartesiano.\n",
        "- Calcule e mostre a distância entre esses dois pontos.\n",
        "\n",
        "\n",
        "\n",
        "```\n",
        "x = float(input(\"Insira o valor de X: \"))\n",
        "y = float(input(\"Insira o valor de Y: \"))\n",
        "\n",
        "distancia = (x)**2 + (y)**2\n",
        "\n",
        "print(\"O valor da distância entre os dois pontos cartesianos é de: \", distancia)\n",
        "```\n",
        "\n"
      ],
      "metadata": {
        "id": "sECzp0XFcVqW"
      }
    },
    {
      "cell_type": "code",
      "source": [
        "x = float(input(\"Insira o valor de X: \"))\n",
        "y = float(input(\"Insira o valor de Y: \"))\n",
        "\n",
        "distancia = (x)**2 + (y)**2\n",
        "\n",
        "print(\"O valor da distância entre os dois pontos cartesianos é de: \", distancia)"
      ],
      "metadata": {
        "colab": {
          "base_uri": "https://localhost:8080/"
        },
        "id": "8pLX6Lt8cWML",
        "outputId": "3006e8d0-6a8c-4d75-f708-b9ebdf07ee3f"
      },
      "execution_count": 21,
      "outputs": [
        {
          "output_type": "stream",
          "name": "stdout",
          "text": [
            "Insira o valor de X: 3.3\n",
            "Insira o valor de Y: 18\n",
            "O valor da distância entre os dois pontos cartesianos é de:  334.89\n"
          ]
        }
      ]
    },
    {
      "cell_type": "markdown",
      "source": [
        "**11. Cálculo de Média Ponderada**\n",
        "- Peça ao usuário para fornecer várias notas e os respectivos pesos.\n",
        "- Calcule a média ponderada com base nas notas e pesos fornecidos.\n",
        "\n",
        "\n",
        "\n",
        "\n",
        "```\n",
        "estagiario = int(input(\"Quantidade de estagiários no setor: \"))\n",
        "bolsa_estagiario = float(input(\"Valor da bolsa-auxílio de cada estagiário: \"))\n",
        "\n",
        "devs = int(input(\"Quantidade de desenvolvedores web no setor: \"))\n",
        "salario_dev = float(input(\"Salário do desenvolvedor: \"))\n",
        "\n",
        "backend = int(input(\"Quantidade de programadores backend no setor: \"))\n",
        "salario_backend = float(input(\"Salário de programador backend: \"))\n",
        "\n",
        "scrum_master = int(input(\"Quantidade de scrum masters no setor: \"))\n",
        "salario_scrum = float(input(\"Salário de scrum master backend: \"))\n",
        "\n",
        "media_ponderada = (estagiario * bolsa_estagiario) + (devs * salario_dev) + (backend * salario_backend) + (scrum_master * salario_scrum) / (estagiario + devs + backend + scrum_master)\n",
        "\n",
        "print(\"A média ponderada da compensação mensal do time é de: \", media_ponderada)\n",
        "```\n",
        "\n"
      ],
      "metadata": {
        "id": "T74VhS1xgCrd"
      }
    },
    {
      "cell_type": "code",
      "source": [
        "estagiario = int(input(\"Quantidade de estagiários no setor: \"))\n",
        "bolsa_estagiario = float(input(\"Valor da bolsa-auxílio de cada estagiário: \"))\n",
        "\n",
        "devs = int(input(\"Quantidade de desenvolvedores web no setor: \"))\n",
        "salario_dev = float(input(\"Salário do desenvolvedor: \"))\n",
        "\n",
        "backend = int(input(\"Quantidade de programadores backend no setor: \"))\n",
        "salario_backend = float(input(\"Salário de programador backend: \"))\n",
        "\n",
        "scrum_master = int(input(\"Quantidade de scrum masters no setor: \"))\n",
        "salario_scrum = float(input(\"Salário de scrum master backend: \"))\n",
        "\n",
        "media_ponderada = (estagiario * bolsa_estagiario) + (devs * salario_dev) + (backend * salario_backend) + (scrum_master * salario_scrum) / (estagiario + devs + backend + scrum_master)\n",
        "\n",
        "print(\"A média ponderada da compensação mensal do time é de: \", media_ponderada)"
      ],
      "metadata": {
        "colab": {
          "base_uri": "https://localhost:8080/"
        },
        "id": "YJx1v5jQgDGA",
        "outputId": "6a9921a0-758e-4554-e41e-cf7d0264a2f0"
      },
      "execution_count": 23,
      "outputs": [
        {
          "output_type": "stream",
          "name": "stdout",
          "text": [
            "Quantidade de estagiários no setor: 2\n",
            "Valor da bolsa-auxílio de cada estagiário: 1358.50\n",
            "Quantidade de desenvolvedores web no setor: 3\n",
            "Salário do desenvolvedor: 3789.22\n",
            "Quantidade de programadores backend no setor: 5\n",
            "Salário de programador backend: 6542.35\n",
            "Quantidade de scrum masters no setor: 1\n",
            "Salário de scrum master backend: 8956.45\n",
            "A média ponderada da compensação mensal do time é de:  47610.63272727273\n"
          ]
        }
      ]
    },
    {
      "cell_type": "markdown",
      "source": [
        "**12. Conversor de Tempo**\n",
        "- Peça ao usuário para fornecer um número de segundos.\n",
        "- Converta esse número em horas, minutos e segundos.\n",
        "\n",
        "\n",
        "\n",
        "```\n",
        "# Isto está formatado como código\n",
        "```\n",
        "\n"
      ],
      "metadata": {
        "id": "F6u3RbRgmChd"
      }
    },
    {
      "cell_type": "code",
      "source": [
        "tempo = int(input(\"Forneça os algorismos: \"))\n",
        "\n",
        "minutos = tempo / 60\n",
        "horas = (tempo / 3600)\n",
        "\n",
        "print(\"Em segundos: \", tempo)\n",
        "print(\"Em minutos: \", minutos)\n",
        "print(\"Em horas: \", horas)"
      ],
      "metadata": {
        "colab": {
          "base_uri": "https://localhost:8080/"
        },
        "id": "fwNjC-ulmDCE",
        "outputId": "37fcdd73-55e9-4791-f233-98700f9e065b"
      },
      "execution_count": 37,
      "outputs": [
        {
          "output_type": "stream",
          "name": "stdout",
          "text": [
            "Forneça os algorismos: 3600\n",
            "Em segundos:  3600\n",
            "Em minutos:  60.0\n",
            "Em horas:  1.0\n"
          ]
        }
      ]
    },
    {
      "cell_type": "markdown",
      "source": [
        "**13. Calculadora de Combustível**\n",
        "- Peça ao usuário para inserir a quantidade de litros de combustível no tanque e o consumo médio de seu carro (km/l).\n",
        "- Calcule e mostre quantos quilômetros o carro pode percorrer com o combustível no tanque.\n",
        "\n",
        "\n",
        "\n",
        "```\n",
        "# Isto está formatado como código\n",
        "```\n",
        "\n"
      ],
      "metadata": {
        "id": "bjbVgxpGsJAi"
      }
    },
    {
      "cell_type": "code",
      "source": [
        "combustivel = float(input(\"Informe quantos litros de combustível abasteceu: \" ))\n",
        "km = float(input(\"Informe a quantidade de quilômetros rodados ao fim do dia: \"))\n",
        "\n",
        "consumo = km / combustivel\n",
        "\n",
        "print(\"Seu veículo consome \", consumo, \"de combustível por quilomêtro rodado.\")"
      ],
      "metadata": {
        "colab": {
          "base_uri": "https://localhost:8080/"
        },
        "id": "5o4cKvJ8sJVT",
        "outputId": "d1cf6a87-e90a-4ab9-cf61-d1b404d92d2a"
      },
      "execution_count": 41,
      "outputs": [
        {
          "output_type": "stream",
          "name": "stdout",
          "text": [
            "Informe quantos litros de combustível abasteceu: 60\n",
            "Informe a quantidade de quilômetros rodados ao fim do dia: 500\n",
            "Seu veículo consome  8.333333333333334 de combustível por quilomêtro rodado.\n"
          ]
        }
      ]
    },
    {
      "cell_type": "markdown",
      "source": [
        "**14. Calculadora de IMC**\n",
        "- Peça ao usuário para fornecer sua altura em metros e peso em quilogramas.\n",
        "- Calcule o Índice de Massa Corporal (IMC).\n",
        "\n",
        "\n",
        "\n",
        "\n",
        "```\n",
        "peso = float(input(\"Insira seu peso em quilos: \"))\n",
        "altura = float(input(\"Insira sua altura em metros: \"))\n",
        "\n",
        "IMC = peso / (altura ** 2)\n",
        "               \n",
        "print(\"Seu IMC é de: \", IMC)\n",
        "```\n",
        "\n"
      ],
      "metadata": {
        "id": "qW62NCvlu9up"
      }
    },
    {
      "cell_type": "code",
      "source": [
        "peso = float(input(\"Insira seu peso em quilos: \"))\n",
        "altura = float(input(\"Insira sua altura em metros: \"))\n",
        "\n",
        "IMC = peso / (altura ** 2)\n",
        "\n",
        "print(\"Seu IMC é de: \", IMC)"
      ],
      "metadata": {
        "colab": {
          "base_uri": "https://localhost:8080/"
        },
        "id": "Jule4u_Ou-QB",
        "outputId": "e0bb52c4-e628-48fe-f43e-4d019885c86e"
      },
      "execution_count": 50,
      "outputs": [
        {
          "output_type": "stream",
          "name": "stdout",
          "text": [
            "Insira seu peso em quilos: 115\n",
            "Insira sua altura em metros: 1.63\n",
            "Seu IMC é de:  43.28352591365878\n"
          ]
        }
      ]
    }
  ]
}